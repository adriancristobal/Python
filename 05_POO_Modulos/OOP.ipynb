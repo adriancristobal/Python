{
 "cells": [
  {
   "cell_type": "markdown",
   "metadata": {},
   "source": [
    "__Cuaderno de trabajo de:__ Adrian Cristobal"
   ]
  },
  {
   "cell_type": "markdown",
   "metadata": {},
   "source": [
    "# Objetos y clases\n",
    "\n",
    "En los años 60 la programación se realizaba de un modo “clásico” (no orientado a objetos).  \n",
    "Un programa era un código que se ejecutaba, los trozos de código que se podían emplear en varias ocasiones a lo largo del programa (reusar) se escribían en forma de procedimientos que se invocaban desde el programa, y esta era la única capacidad de reuso de código posible.  \n",
    "Según los códigos se fueron haciendo más grandes y complejos este estilo de programación se hacía más inviable: es difícil programar algo de grandes dimensiones con este estilo de programación. La única posibilidad de repartir trozos de código relativamente independientes entre programadores son los procedimientos, y al final hay que juntar todos estos con el programa central que los llama, siendo frecuente encontrar problemas al unir estos trozos de código.  \n",
    "En los años 70 se empezó a imponer con fuerza otro estilo de programación: POO, programación orientada o objetos (en la literatura suele aparecer como OOP, Object Oriented Programing). Aquí un programa no es un código que llama a procedimientos, aquí un programa es un montón de objetos, independientes entre si, que dialogan entre ellos pasándose mensajes para llegar a resolver el problema en cuestión.  \n",
    "A un objeto no le importa en absoluto como está implementado otro objeto, que código tiene o deja de tener, que variables usa.... sólo le importa a que mensajes es capaz de responder. Un mensaje es la invocación de un método de otro objeto. Un método es muy semejante a un procedimiento de la programación clásica: a un método se le pasan uno, varios o ningún dato y nos devuelve un dato a cambio.  \n",
    "Si hay que repartir un programa de grandes dimensiones entre varios programadores a cada uno se le asignan unos cuantos objetos, y en lo único que tendrán que ponerse de acuerdo entre ellos es en los mensajes que se van a pasar; la forma en que un programador implemente sus objetos no influye en absoluto en lo que los demás programadores hagan. Esto es así gracias a que los objetos son independientes unos de otros (cuanta mayor sea la independencia entre ellos de mayor calidad serán).  \n",
    "Si analizamos lo que hemos dicho hasta aquí de los objetos veremos que estos parecen tener dos partes bastante diferenciadas: la parte que gestiona los mensajes, que ha de ser conocida por los demás, y que no podremos cambiar en el futuro sin modificar los demás objetos (sí es posible añadir nuevos métodos para dar nuevas funciones al objetos sin modificar los métodos ya existentes). La otra parte es el mecanismo por el cual se generan las acciones requeridas por los mensajes el conjunto de variables que se emplean para lograr estas acciones. Esta segunda parte es, en principio, totalmente desconocida para los demás objetos (a veces no es así, pero es lo ideal en un buena OOP). Por ser desconocida para los demás objetos podemos en cualquier momento modificarla sin que a los demás les importe, y además cada programador tendrá total libertad para llevarla a cabo como él considere oportuno.  \n",
    "La OOP permite abordar con más posibilidades de éxito y con un menor coste temporal grandes proyectos de software, simplificándole además la tarea al programador.  \n",
    "\n",
    "Una __clase__ es la “plantilla” que usamos para crear los objetos. Todos los objetos pertenecen a una determinada clase. Un __objeto__ que se crea a partir de una clase se dice que es una __instancia__ de esa clase. Las distintas clases tienen distintas relaciones de herencia entre si: una clase puede derivarse de otra, en ese caso la clase derivada o clase hija hereda los métodos y variables de la clase de la que se deriva o clase padre.\n",
    "\n",
    "#### Encapsulamiento"
   ]
  },
  {
   "cell_type": "code",
   "execution_count": 177,
   "metadata": {},
   "outputs": [],
   "source": [
    "from datetime import date\n",
    "\n",
    "import null as null\n",
    "import private as private\n",
    "import self as self\n",
    "\n",
    "\n",
    "class Persona:\n",
    "    # En python no existe el encapsulamiento, se puede simular precediendo a los atributos y métodos con dos barras bajas __\n",
    "    __pensamiento = \"Quiero ir a la luna\"  # atributo privado\n",
    "    cara = \"Alegre\"\n",
    "    \n",
    "    # metodo especial __init__ es el  constructor, nos permite inicializar los atributos de los objetos\n",
    "    def __init__(self, ano_nacimiento=2000, sexo=\"Hombre\", nombre=\"Nombre\", apellido=\"Apellido\"):\n",
    "        self.ano_nacimiento = ano_nacimiento\n",
    "        self.sexo = sexo\n",
    "        self.edad = self.get_edad()\n",
    "        self.nombre = nombre\n",
    "        self.apellido = apellido\n",
    "        \n",
    "    # métodos son funciones que se utilizan para definir el comportamiento de los objetos\n",
    "    def get_edad(self):  \n",
    "        return date.today().year - self.ano_nacimiento\n",
    "\n",
    "    # todos los métodos recibe como primer parámetro (self)\n",
    "    def info(self):\n",
    "        print(\"---------------------\")\n",
    "        print(\"Nombre   : \"+self.nombre)\n",
    "        print(\"Apellido : \"+self.apellido)\n",
    "        print(\"Edad     : \"+str(self.edad))\n",
    "        print(\"Sexo     : \"+self.sexo)\n",
    " \n",
    "    def get_pensamiento(self):\n",
    "        print(self.__pensamiento)\n",
    "        \n",
    "    def diferencia_edad(self,otra_persona):\n",
    "        print(\"Me llevo \"+str(abs(self.edad-otra_persona.edad))+\" años con \"+otra_persona.nombre)\n",
    "    \n",
    "        "
   ]
  },
  {
   "cell_type": "code",
   "execution_count": 178,
   "metadata": {},
   "outputs": [
    {
     "name": "stdout",
     "output_type": "stream",
     "text": [
      "---------------------\n",
      "Nombre   : Nombre\n",
      "Apellido : Apellido\n",
      "Edad     : 21\n",
      "Sexo     : Hombre\n",
      "---------------------\n",
      "Nombre   : Manuel\n",
      "Apellido : López\n",
      "Edad     : 42\n",
      "Sexo     : Hombre\n"
     ]
    }
   ],
   "source": [
    "persona00 = Persona()\n",
    "persona00.info()\n",
    "persona01 = Persona(1979,\"Hombre\",\"Manuel\",\"López\")\n",
    "persona01.info()"
   ]
  },
  {
   "cell_type": "code",
   "execution_count": 179,
   "metadata": {},
   "outputs": [
    {
     "name": "stdout",
     "output_type": "stream",
     "text": [
      "Me llevo 21 años con Manuel\n"
     ]
    }
   ],
   "source": [
    "persona00.diferencia_edad(persona01)"
   ]
  },
  {
   "cell_type": "code",
   "execution_count": 180,
   "metadata": {},
   "outputs": [
    {
     "name": "stdout",
     "output_type": "stream",
     "text": [
      "Quiero ir a la luna\n",
      "Alegre\n"
     ]
    }
   ],
   "source": [
    "persona01.get_pensamiento()\n",
    "#print(persona01.__pensamiento) #AttributeError: 'Persona' object has no attribute '__pensamiento'\n",
    "print(persona01.cara)"
   ]
  },
  {
   "cell_type": "code",
   "execution_count": 181,
   "metadata": {},
   "outputs": [
    {
     "name": "stdout",
     "output_type": "stream",
     "text": [
      "Año de nacimiento 1979\n"
     ]
    }
   ],
   "source": [
    "print(\"Año de nacimiento \"+str(persona01.ano_nacimiento))"
   ]
  },
  {
   "cell_type": "code",
   "execution_count": 182,
   "metadata": {},
   "outputs": [
    {
     "name": "stdout",
     "output_type": "stream",
     "text": [
      "---------------------\n",
      "Nombre   : Eva\n",
      "Apellido : Gárcia\n",
      "Edad     : 42\n",
      "Sexo     : Mujer\n",
      "\n",
      "Eva tiene cara Alegre\n",
      "Cambiamos la cara a Triste\n",
      "Manuel tiene cara Alegre\n",
      "Eva tiene cara Triste\n"
     ]
    }
   ],
   "source": [
    "persona02 = Persona(1979,\"Mujer\",\"Eva\",\"Gárcia\")\n",
    "persona02.info()\n",
    "print(\"\")\n",
    "print(persona02.nombre+\" tiene cara \"+persona02.cara)\n",
    "print(\"Cambiamos la cara a Triste\")\n",
    "persona02.cara=\"Triste\"\n",
    "print(persona01.nombre+\" tiene cara \"+persona01.cara)\n",
    "print(persona02.nombre+\" tiene cara \"+persona02.cara)"
   ]
  },
  {
   "cell_type": "markdown",
   "metadata": {},
   "source": [
    "#### Herencia"
   ]
  },
  {
   "cell_type": "code",
   "execution_count": 183,
   "metadata": {
    "scrolled": true
   },
   "outputs": [
    {
     "name": "stdout",
     "output_type": "stream",
     "text": [
      "---------------------\n",
      "Nombre   : María\n",
      "Apellido : García\n",
      "Edad     : 25\n",
      "Sexo     : Mujer\n",
      "Curso    : 1DAM\n"
     ]
    }
   ],
   "source": [
    "class Estudiante(Persona): \n",
    "    def __init__(self, ano_nacimiento, sexo, nombre, apellido, curso):\n",
    "        super().__init__(ano_nacimiento, sexo, nombre, apellido)\n",
    "        self.curso = curso\n",
    "    def info(self):\n",
    "        # La función super() me proporciona una referencia a la clase base.\n",
    "        super().info()   \n",
    "        print(\"Curso    : \"+self.curso) \n",
    "\n",
    "estudiante01 = Estudiante(1996,\"Mujer\",\"María\",\"García\",\"1DAM\")\n",
    "\n",
    "estudiante01.info()"
   ]
  },
  {
   "cell_type": "markdown",
   "metadata": {},
   "source": [
    "### Polimorfismo"
   ]
  },
  {
   "cell_type": "code",
   "execution_count": 184,
   "metadata": {},
   "outputs": [],
   "source": [
    "from pythonlangutil.overload import Overload, signature  #no hace falta para la sobrecarga devida a la herencia\n",
    "\n",
    "class Profesor(Persona): \n",
    "    def __init__(self, ano_nacimiento, sexo, nombre, apellido, curso):\n",
    "        super().__init__(ano_nacimiento, sexo, nombre, apellido)\n",
    "        self.curso = curso\n",
    "    def info(self):\n",
    "        super().info()\n",
    "        print(\"Curso    : \"+self.curso)\n",
    "        \n",
    "    @Overload\n",
    "    @signature()\n",
    "    def get_pensamiento(self):\n",
    "        print(\"************\")\n",
    "        \n",
    "    @get_pensamiento.overload\n",
    "    @signature(\"int\",\"int\")    \n",
    "    def get_pensamiento(self,x,y=1):\n",
    "        print(str(x+y))\n",
    "        \n",
    "    @get_pensamiento.overload\n",
    "    @signature(\"str\")    \n",
    "    def get_pensamiento(self,A):\n",
    "        print(A)\n",
    "        \n",
    "profesor01 = Profesor(1981,\"Mujer\",\"Patricia\",\"González\",\"1DAM\")"
   ]
  },
  {
   "cell_type": "code",
   "execution_count": 185,
   "metadata": {},
   "outputs": [
    {
     "name": "stdout",
     "output_type": "stream",
     "text": [
      "Quiero ir a la luna\n",
      "************\n",
      "3\n",
      "Hola\n"
     ]
    }
   ],
   "source": [
    "estudiante01.get_pensamiento()\n",
    "profesor01.get_pensamiento()\n",
    "profesor01.get_pensamiento(1,2)\n",
    "profesor01.get_pensamiento(\"Hola\")"
   ]
  },
  {
   "cell_type": "code",
   "execution_count": 186,
   "metadata": {},
   "outputs": [
    {
     "name": "stdout",
     "output_type": "stream",
     "text": [
      "Asignatura : Mátematicas\n",
      "Profesora : Patricia\n"
     ]
    }
   ],
   "source": [
    "class Asignatura:\n",
    "    def __init__(self, nombre,profesor): \n",
    "        self.nombre = nombre\n",
    "        self.profesor = profesor\n",
    "        \n",
    "    def info(self):\n",
    "        print(\"Asignatura : \"+self.nombre)\n",
    "        if self.profesor.sexo == \"Mujer\":\n",
    "            print(\"Profesora : \"+self.profesor.nombre)\n",
    "        if self.profesor.sexo == \"Hombre\":\n",
    "            print(\"Profesor : \"+self.profesor.nombre)\n",
    "        \n",
    "asignatura01 = Asignatura(\"Mátematicas\",profesor01)\n",
    "asignatura01.info()"
   ]
  },
  {
   "cell_type": "markdown",
   "metadata": {},
   "source": [
    "<hr>\n",
    "<b><font color='red'>Ejercicio 01</font></b>  \n",
    "\n",
    "Crea una clase llamada int8 con una método llamado getint8() que obtenga el número rellenando con \"8\" ceros a la derecha.\n",
    "Crea otro método sum(int8) que devuelva la suma rellenando con \"8\" ceros a la derecha\n",
    "En el caso de que el número sea mayor que 9999999 o menor que -9999999, devuelve \"NAN\""
   ]
  },
  {
   "cell_type": "code",
   "execution_count": 187,
   "metadata": {},
   "outputs": [
    {
     "name": "stdout",
     "output_type": "stream",
     "text": [
      "20000000\n",
      "NAN\n"
     ]
    }
   ],
   "source": [
    "class Int8:\n",
    "  def __init__(self, numeroA, numeroB):\n",
    "        self.numeroA = numeroA\n",
    "        self.numeroB = numeroB\n",
    "  def getInt8(self):\n",
    "      print(str(self.numeroA)+\"0000000\")\n",
    "  def sum(self):\n",
    "      nmax = 9999999\n",
    "      nmin = -9999999\n",
    "      var = self.numeroA + self.numeroB\n",
    "      if var > nmax or var < nmin:\n",
    "          return \"NAN\"\n",
    "      else:\n",
    "        return str(var)\n",
    "\n",
    "klk = Int8(2, -800000000000000)\n",
    "klk.getInt8()\n",
    "print(klk.sum())\n",
    "\n",
    "\n"
   ]
  },
  {
   "cell_type": "markdown",
   "metadata": {},
   "source": [
    "<hr>\n",
    "<b><font color='red'>Ejercicio 02</font></b>  \n",
    "\n",
    "Crea una clase llamada Cuenta que tendrá los siguientes atributos: titular (que es una persona) y cantidad (puede tener decimales). El titular será obligatorio y la cantidad es opcional. Construye los siguientes métodos para la clase:  \n",
    "- Un constructor, donde los datos pueden estar vacíos.  \n",
    "- Los setters y getters para cada uno de los atributos. El atributo no se puede modificar directamente, sólo ingresando o retirando dinero.  \n",
    "- mostrar(): Muestra los datos de la cuenta.  \n",
    "- ingresar(cantidad): se ingresa una cantidad a la cuenta, si la cantidad introducida es negativa, no se hará nada.  \n",
    "- retirar(cantidad): se retira una cantidad a la cuenta. La cuenta puede estar en números rojos."
   ]
  },
  {
   "cell_type": "code",
   "execution_count": 188,
   "outputs": [
    {
     "name": "stdout",
     "output_type": "stream",
     "text": [
      "Pepe\n",
      "1000\n",
      "Titular: Pepe || Cantidad: 1000$\n",
      "1200\n",
      "500\n"
     ]
    }
   ],
   "source": [
    "class Cuenta(Persona):\n",
    "\n",
    "    def __init__(self,ano_nacimiento, sexo, nombre, apellido):\n",
    "        super().__init__(ano_nacimiento, sexo, nombre, apellido)\n",
    "        self.titular = nombre\n",
    "    def getTitular(self):\n",
    "        return self.titular\n",
    "    def setTitular(self,titular):\n",
    "        self.titular = titular\n",
    "    def getCantidad(self):\n",
    "        return self.cantidad\n",
    "    def setCantidad(self,cantidad):\n",
    "        self.cantidad = cantidad\n",
    "    def mostrar(self):\n",
    "        print(\"Titular: \"+self.titular+\" || Cantidad: \"+str(self.cantidad)+\"$\")\n",
    "    def ingresar(self, cantidad):\n",
    "        if cantidad > 0.0 :\n",
    "            self.cantidad = self.cantidad + cantidad\n",
    "            return self.cantidad\n",
    "    def retirar(self,cantidad):\n",
    "        self.cantidad = self.cantidad - cantidad\n",
    "        return self.cantidad\n",
    "\n",
    "cuentaEjemplo = Cuenta(1992, \"Hombre\", \"Pepe\", \"Lopez\")\n",
    "cuentaEjemplo.cantidad = 1000\n",
    "print(cuentaEjemplo.getTitular())\n",
    "print(cuentaEjemplo.getCantidad())\n",
    "cuentaEjemplo.mostrar()\n",
    "print(cuentaEjemplo.ingresar(200))\n",
    "print(cuentaEjemplo.retirar(700))"
   ],
   "metadata": {
    "collapsed": false,
    "pycharm": {
     "name": "#%%\n"
    }
   }
  },
  {
   "cell_type": "markdown",
   "metadata": {},
   "source": [
    "<hr>\n",
    "<b><font color='red'>Ejercicio 03</font></b>  \n",
    "\n",
    "Crea una Clase Teléfono, si empieza por 9 u 8 haz que lo guarde como un fijo, en el caso de que empiece por 6 o 7 lo guarde como móvil.  \n",
    "Haz un método que cambie el número de télefono, en el caso de que reciva mas de 9 dígitos haz que devuelva \"Número no cambiado\" y no guarde el número, en el caso de que tenga nueve digitos, lo guarda como movil o fijo.\n",
    "Crea una clase persona con télefono, de tal manera que:"
   ]
  },
  {
   "cell_type": "code",
   "execution_count": 192,
   "metadata": {},
   "outputs": [
    {
     "name": "stdout",
     "output_type": "stream",
     "text": [
      "Numero inferior a 9 numeros\n",
      "Numero cambiado. Mi telefono es un movil con numero 864527635\n",
      "864527635\n"
     ]
    }
   ],
   "source": [
    "class Persona_tlf(Persona):\n",
    "  def __init__(self,ano_nacimiento, sexo, nombre, apellido, numeroTlf):\n",
    "        super().__init__(ano_nacimiento, sexo, nombre, apellido)\n",
    "        self.numeroTlf = numeroTlf\n",
    "\n",
    "  def tlfInfo(self):\n",
    "      if len(str(self.numeroTlf)) == 9:\n",
    "        if str(self.numeroTlf)[0] == \"8\" or str(self.numeroTlf)[0] == \"9\":\n",
    "            print(\"Mi telefono es un movil con numero \"+str(self.numeroTlf))\n",
    "        elif str(self.numeroTlf)[0] == \"6\" or str(self.numeroTlf)[0] == \"7\" :\n",
    "            print(\"Mi telefono es un fijo con numero \"+str(self.numeroTlf))\n",
    "        else:\n",
    "          print(\"Telefono no valido\")\n",
    "      else:\n",
    "          print(\"Numero diferente a 9 numeros\")\n",
    "  def cambiarTlf(self, numeroTlf):\n",
    "        if len(str(numeroTlf)) > 9 or len(str(numeroTlf)) < 9:\n",
    "            print(\"Numero no cambiado, necesitamos un numero de 9 cifras\")\n",
    "        else:\n",
    "            self.numeroTlf = numeroTlf\n",
    "            if self.numeroTlf > 799999999:\n",
    "                print(\"Numero cambiado. Mi telefono es un movil con numero \"+str(self.numeroTlf))\n",
    "            else:\n",
    "                 print(\"Numero cambiado. Mi telefono es un fijo con numero \"+str(self.numeroTlf))\n",
    "  def getTlf(self):\n",
    "      return print(str(self.numeroTlf))\n",
    "\n",
    "\n",
    "personaTlf = Persona_tlf(1992, \"Mujer\", \"Laura\", \"Garcia\", 638748937)\n",
    "personaTlf.tlfInfo()\n",
    "personaTlf.cambiarTlf(864527635)\n",
    "personaTlf.getTlf()\n"
   ]
  },
  {
   "cell_type": "markdown",
   "metadata": {},
   "source": [
    "<hr>\n",
    "<b><font color='red'>Ejercicio 04</font></b>  \n",
    "\n",
    "Dadas las siguientes listas de módulos:"
   ]
  },
  {
   "cell_type": "code",
   "execution_count": 190,
   "metadata": {},
   "outputs": [],
   "source": [
    "DAM1 = [[\"0484\", \"Bases de datos\",6 ],\n",
    "  [\"0487\", \"Entornos de desarrollo\", 3 ],\n",
    "  [\"0493\", \"Formación y orientación laboral\", 3 ],\n",
    "  [\"0373\", \"Lenguaje de marcas y sistemas de gestión de información\", 4 ],\n",
    "  [\"0485\", \"Programación\",8 ],\n",
    "  [\"0483\", \"Sistemas informáticos\", 6 ]]\n",
    "DAM2 = [[\"0486\", \"Acceso a datos\", 6],\n",
    "  [\"0488\", \"Desarrollo de interfaces\", 6],\n",
    "  [\"0494\", \"Empresa e iniciativa emprendedora\", 3],\n",
    "  [\"9009\", \"Inglés técnico para grado superior\", 2],\n",
    "  [\"0490\", \"Programación de servicios y procesos\", 4],\n",
    "  [\"0489\", \"Programación multimedia y dispositivos móviles\", 4],\n",
    "  [\"0491\", \"Sistemas de gestión empresarial\", 5]]"
   ]
  },
  {
   "cell_type": "markdown",
   "metadata": {},
   "source": [
    "Crea la clase Curso que cargue los dos cursos DAM1 y DAM2.\n",
    "Crea la clase Modulo que cargue los módulos.\n",
    "Haz una lista con los cursos de tal forma que la salida de:"
   ]
  },
  {
   "cell_type": "code",
   "execution_count": 191,
   "metadata": {},
   "outputs": [
    {
     "ename": "SyntaxError",
     "evalue": "invalid syntax (Temp/ipykernel_9316/782166327.py, line 3)",
     "output_type": "error",
     "traceback": [
      "\u001B[1;36m  File \u001B[1;32m\"C:\\Users\\jrang\\AppData\\Local\\Temp/ipykernel_9316/782166327.py\"\u001B[1;36m, line \u001B[1;32m3\u001B[0m\n\u001B[1;33m    __listaModulos =\u001B[0m\n\u001B[1;37m                    ^\u001B[0m\n\u001B[1;31mSyntaxError\u001B[0m\u001B[1;31m:\u001B[0m invalid syntax\n"
     ]
    }
   ],
   "source": [
    "class Curso:\n",
    "\n",
    "  def __init__(self, ano, nombreC, modulos):\n",
    "      self.ano = ano\n",
    "      self.nombreC = nombreC\n",
    "      self.modulos = modulos\n",
    "\n",
    "  def modulos(self):\n",
    "\n",
    "\n",
    "\n",
    "class Modulo:\n",
    "  def __init__(self, id, nombreM, horas):\n",
    "      self.id = id\n",
    "      self.nombreM = nombreM\n",
    "      self.horas = horas\n",
    "\n",
    "  def info(self):\n",
    "      print(self.id+\", \"+self.nombreM+\", \"+self.horas)\n",
    "\n",
    "cursos = [Curso(1,\"DAM\", DAM1),Curso(2,\"DAM\", DAM2)]\n",
    "for i in DAM1:\n",
    "    print(cursos[0].modulos.append(Modulo(i[0],i[1],i[2])))\n",
    "for i in DAM2:\n",
    "    print(cursos[1].modulos.append(Modulo(i[0],i[1],i[2])))\n",
    "for i in cursos:\n",
    "    i.info()\n"
   ]
  },
  {
   "cell_type": "markdown",
   "metadata": {},
   "source": [
    "- ayuda:\n",
    "    + metodo \\_\\_init\\_\\_ para la clase Curso : def \\_\\_init\\_\\_(self,año,nombre):\n",
    "    + metodo \\_\\_init\\_\\_ para la clase Modulo : def \\_\\_init\\_\\_(self, ID, nombre , horas):\n"
   ]
  },
  {
   "cell_type": "markdown",
   "metadata": {},
   "source": [
    "<code>for i in cursos:\n",
    "    i.info()\n",
    "</code>\n",
    "\n",
    "    Curso 1 DAM\n",
    "      0484 Bases de datos (6)\n",
    "      0487 Entornos de desarrollo (3)\n",
    "      0493 Formación y orientación laboral (3)\n",
    "      0373 Lenguaje de marcas y sistemas de gestión de información (4)\n",
    "      0485 Programación (8)\n",
    "      0483 Sistemas informáticos (6)\n",
    "    Curso 2 DAM\n",
    "      0486 Acceso a datos (6)\n",
    "      0488 Desarrollo de interfaces (6)\n",
    "      0494 Empresa e iniciativa emprendedora (3)\n",
    "      9009 Inglés técnico para grado superior (2)\n",
    "      0490 Programación de servicios y procesos (4)\n",
    "      0489 Programación multimedia y dispositivos móviles (4)\n",
    "      0491 Sistemas de gestión empresarial (5)"
   ]
  },
  {
   "cell_type": "markdown",
   "metadata": {},
   "source": [
    "<hr>\n",
    "<b><font color='red'>Ejercicio 05</font></b>  \n",
    "\n",
    "Completa el siguiente código:"
   ]
  },
  {
   "cell_type": "code",
   "execution_count": null,
   "metadata": {},
   "outputs": [],
   "source": [
    "#tenemos la siguiente lista de pasajeros:\n",
    "class Pasajero:\n",
    "    def __init__(self, sexo, nombre, apellido):\n",
    "        self.sexo = sexo\n",
    "        self.nombre = nombre\n",
    "        self.apellido = apellido\n",
    "\n",
    "    PersonasLista=[[\"Mujer\",\"Antonella\",\"Rodriguez\"],\n",
    "    [\"Mujer\",\"Isabel\",\"Gutierrez\"],\n",
    "    [\"Mujer\",\"Luna\",\"Garcia\"],\n",
    "    [\"Mujer\",\"Luciana\",\"Gonzalez\"],\n",
    "    [\"Mujer\",\"Ana\",\"Martinez\"],\n",
    "    [\"Mujer\",\"Sofía\",\"Medina\"],\n",
    "    [\"Hombre\",\"Mario\",\"Herrera\"],\n",
    "    [\"Mujer\",\"Francesca\",\"Sanchez\"],\n",
    "    [\"Hombre\",\"Alejandro\",\"Sanchez\"],\n",
    "    [\"Mujer\",\"Alejandra\",\"Romero\"],\n",
    "    [\"Mujer\",\"Allison\",\"Castro\"],\n",
    "    [\"Hombre\",\"Isaac\",\"Vazquez\"],\n",
    "    [\"Hombre\",\"Carlos\",\"Gonzalez\"],\n",
    "    [\"Mujer\",\"Renata\",\"Morrell\"],\n",
    "    [\"Mujer\",\"Laura\",\"Sanchez\"],\n",
    "    [\"Hombre\",\"Sebastián\",\"Molina\"],\n",
    "    [\"Mujer\",\"Abigail\",\"Lopez\"],\n",
    "    [\"Mujer\",\"Andrea\",\"Ramos\"],\n",
    "    [\"Mujer\",\"María\",\"Delgado\"],\n",
    "    [\"Mujer\",\"Ivanna\",\"Serrano\"],\n",
    "    [\"Mujer\",\"Alejandra\",\"Medina\"],\n",
    "    [\"Mujer\",\"Violeta\",\"Ortega\"],\n",
    "    [\"Mujer\",\"Ashley\",\"Rodriguez\"],\n",
    "    [\"Mujer\",\"Julia\",\"Alvarez\"],\n",
    "    [\"Mujer\",\"Miranda\",\"Cruz\"],\n",
    "    [\"Mujer\",\"Nicole\",\"Gil\"],\n",
    "    [\"Mujer\",\"Rafaela\",\"Herrera\"],\n",
    "    [\"Hombre\",\"Samuel\",\"Mendez\"],\n",
    "    [\"Hombre\",\"Kevin\",\"Castro\"],\n",
    "    [\"Mujer\",\"Lucía\",\"Santos\"],\n",
    "    [\"Hombre\",\"LiaHombre\",\"Gil\"],\n",
    "    [\"Mujer\",\"Allison\",\"Jimenez\"]]\n",
    "\n",
    "    for i in PersonasLista:\n",
    "        Pasajero = i\n",
    "\n",
    "\n",
    "#Teniendo encuenta que todos han nacido en el 2000 crea una lista de Personas con la lista de pasajeros llamala:\n",
    "\n",
    "PasajerosList=[Pasajero]\n",
    "for i in Pasajero:\n",
    "    print(\"El pasajero \"+se)\n",
    "\n",
    "#Cambia el nombre del pasajero del día de tu cumpleaños por tu nombre y pon cara=\"DE CUMPLEAÑOS\", si quieres cambiale tambien el sexo\n",
    "\"\"\"Esribe tu código aquí\"\"\"\n",
    "\n",
    "#haz que se muestre por pantalla la siguiente información"
   ]
  },
  {
   "cell_type": "markdown",
   "metadata": {},
   "source": [
    "    El pasajero Antonella tiene cara Alegre\n",
    "    El pasajero Isabel tiene cara Alegre\n",
    "    El pasajero Luna tiene cara Alegre\n",
    "    El pasajero Luciana tiene cara Alegre\n",
    "    El pasajero Ana tiene cara Alegre\n",
    "    El pasajero Sofía tiene cara Alegre\n",
    "    El pasajero Mario tiene cara Alegre\n",
    "    El pasajero Francesca tiene cara Alegre\n",
    "    El pasajero Alejandro tiene cara Alegre\n",
    "    El pasajero Alejandra tiene cara Alegre\n",
    "    El pasajero Allison tiene cara Alegre\n",
    "    El pasajero Isaac tiene cara Alegre\n",
    "    El pasajero Carlos tiene cara Alegre\n",
    "    El pasajero Renata tiene cara Alegre\n",
    "    El pasajero Laura tiene cara Alegre\n",
    "    El pasajero Sebastián tiene cara Alegre\n",
    "    El pasajero Abigail tiene cara Alegre\n",
    "    El pasajero Andrea tiene cara Alegre\n",
    "    El pasajero María tiene cara Alegre\n",
    "    El pasajero Ivanna tiene cara Alegre\n",
    "    El pasajero Alejandra tiene cara Alegre\n",
    "    El pasajero Violeta tiene cara Alegre\n",
    "    El pasajero Ashley tiene cara Alegre\n",
    "    El pasajero Julia tiene cara Alegre\n",
    "    El pasajero Miranda tiene cara Alegre\n",
    "    El pasajero Daniel tiene cara DE CUMPLEAÑOS\n",
    "    El pasajero Rafaela tiene cara Alegre\n",
    "    El pasajero Samuel tiene cara Alegre\n",
    "    El pasajero Kevin tiene cara Alegre\n",
    "    El pasajero Lucía tiene cara Alegre\n",
    "    El pasajero LiaHombre tiene cara Alegre\n",
    "    El pasajero Allison tiene cara Alegre"
   ]
  },
  {
   "cell_type": "code",
   "execution_count": null,
   "metadata": {},
   "outputs": [],
   "source": []
  }
 ],
 "metadata": {
  "kernelspec": {
   "display_name": "Python 3",
   "language": "python",
   "name": "python3"
  },
  "language_info": {
   "codemirror_mode": {
    "name": "ipython",
    "version": 3
   },
   "file_extension": ".py",
   "mimetype": "text/x-python",
   "name": "python",
   "nbconvert_exporter": "python",
   "pygments_lexer": "ipython3",
   "version": "3.8.10"
  }
 },
 "nbformat": 4,
 "nbformat_minor": 5
}