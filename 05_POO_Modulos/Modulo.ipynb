{
 "cells": [
  {
   "cell_type": "markdown",
   "metadata": {},
   "source": [
    "# Módulos\n",
    "\n",
    "Cuando cierras el intérprete de Python las funciones y variables se pierden, en el caso de necesites escribir un programa más o menos largo, es mejor que lo escribas en un archivo, tambien llamado script. Pero que ocurre si tu programa se vuelve más largo, quizás quieras separarlo en distintos archivos para un mantenimiento más fácil. \n",
    "\n",
    "Quizás también quieras usar una función útil que escribiste desde distintos programas sin copiar su definición a cada programa, para ello tendrás que crear un modulo, de esta forma las definiciones de un módulo pueden ser importadas a otros módulos o al módulo principal.\n",
    "\n",
    "Creamos un archivo llamado [fact.py](fact.py) con el siguiente dódigo dentro"
   ]
  },
  {
   "cell_type": "code",
   "execution_count": 1,
   "metadata": {},
   "outputs": [],
   "source": [
    "# módulo factorial\n",
    "\n",
    "def factorial(numero):\n",
    "    if numero > 1:\n",
    "        numero = numero * factorial(numero -1)\n",
    "    return(numero)"
   ]
  },
  {
   "cell_type": "markdown",
   "metadata": {},
   "source": [
    "Ahora entrá al intérprete de Python e importá este módulo con la siguiente orden:"
   ]
  },
  {
   "cell_type": "markdown",
   "metadata": {},
   "source": [
    "    >>>import fact\n",
    "    >>>print(fact.factorial(5))\n",
    "    120"
   ]
  },
  {
   "cell_type": "markdown",
   "metadata": {},
   "source": [
    "Un módulo es una archivo conteniendo definiciones y declaraciones de Python. El nombre del archivo es el nombre del módulo con el sufijo .py agregado. Dentro de un módulo, el nombre del mismo (como una cadena) está disponible en el valor de la variable global \\__name__\n",
    "\n",
    "    >>> fact.__name__\n",
    "    'fact'\n",
    "Podemos asignarla un nombre local si la vamos a utilizar con frecuencia:\n",
    "\n",
    "    >>> local_fact=fact.factorial\n",
    "    >>> local_fact(4)\n",
    "    24\n"
   ]
  },
  {
   "cell_type": "markdown",
   "metadata": {},
   "source": [
    "Un módulo puede contener tanto declaraciones ejecutables como definiciones de funciones. Estas declaraciones están pensadas para inicializar el módulo. Se ejecutan solamente la primera vez que el módulo se encuentra en una sentencia import. \n",
    "\n",
    "Cada módulo tiene su propio espacio de nombres, el que es usado como espacio de nombres global por todas las funciones definidas en el módulo. Por lo tanto, el autor de un módulo puede usar variables globales en el módulo sin preocuparse acerca de conflictos con una variable global del usuario.\n",
    "\n",
    "Hay una variante de la declaración import que importa los nombres de un módulo directamente al espacio de nombres del módulo que hace la importación. Por ejemplo:\n",
    "\n",
    "    >>> from fact import factorial\n",
    "\n",
    "Cuando ejecutás un módulo de Python con python fact.py <argumentos>\n",
    "37...el código en el módulo será ejecutado, tal como si lo hubieses importado, pero con __name__ con el valor de\n",
    "\"__main__\". Eso significa que agregando este código al final de tu módulo:\n",
    "    \n",
    "    if __name__ == \"__main__\":\n",
    "    import sys\n",
    "    fib(int(sys.argv[1]))\n",
    "...podés hacer que el archivo sea utilizable tanto como script, como módulo importable, porque el código que analiza la linea\n",
    "de órdenes sólo se ejecuta si el módulo es ejecutado como archivo principal:\n",
    "    \n",
    "    $ python3 fact.py 5\n",
    "    120\n",
    "Si el módulo se importa, ese código no se ejecuta:\n",
    "\n",
    "    >>> import fact\n",
    "    >>>\n",
    "Esto es frecuentemente usado para proveer al módulo una interfaz de usuario conveniente, o para propósitos de prueba.\n",
    "\n",
    "Cuando hacemos un script, con o sin importar modulos podemos ver como se comportan los argumentos, en el siguiente script.py:\n",
    "\n",
    "    #!/usr/bin/env python3\n",
    "    import sys\n",
    "    \n",
    "    print(sys.argv)\n",
    "\n",
    "    for i in sys.argv:\n",
    "        print(i)\n",
    "    \n",
    "    for j in range(1,len(sys.argv)):\n",
    "        print(sys.argv[j])\n",
    "\n",
    "ejecutamos el scrip.py con los siguientes argumentos\n",
    "\n",
    "    $ ./script.py uno dos tres\n",
    "    ['./script.py', 'uno', 'dos', 'tres']\n",
    "    ./script.py\n",
    "    uno\n",
    "    dos\n",
    "    tres\n",
    "    uno\n",
    "    dos\n",
    "    tres\n"
   ]
  },
  {
   "cell_type": "markdown",
   "metadata": {},
   "source": [
    "## Paquetes\n",
    "Los paquetes son una manera de estructurar los espacios de nombres de Python usando \"nombres de módulos con puntos\". Por ejemplo, el nombre de módulo A.B designa un submódulo llamado B en un paquete llamado A. Tal como el uso de módulos evita que los autores de diferentes módulos tengan que preocuparse de los respectivos nombres de variables globales, el uso de nombres de módulos con puntos evita que los autores de paquetes de muchos módulos, como NumPy o la Biblioteca de Imágenes de Python (Python Imaging Library, o PIL), tengan que preocuparse de los respectivos nombres de módulos.\n",
    "\n",
    "Por ejemplo el paquete mat, que tendría dentro:\n",
    "\n",
    "    mat/\n",
    "     |-- __init__.py\n",
    "     |-- suma.py\n",
    "     |-- resta.py\n"
   ]
  },
  {
   "cell_type": "markdown",
   "metadata": {},
   "source": [
    "    >>> import mat.suma\n",
    "    >>> print(mat.suma.suma(2,3))\n",
    "    5"
   ]
  },
  {
   "cell_type": "markdown",
   "metadata": {},
   "source": [
    "Cuando se importa un módulo llamado spam, el intérprete busca primero por un módulo con ese nombre que esté integrado en el intérprete. Si no lo encuentra, entonces busca un archivo llamado spam.py en una lista de directorios especificada por la variable sys.path. sys.path se inicializa con las siguientes ubicaciones:\n",
    "- El directorio conteniendo el script (o el directorio actual cuando no se especifica un archivo).\n",
    "- PYTHONPATH (una lista de nombres de directorios, con la misma sintaxis que la variable de entorno PATH.\n",
    "- El directorio default de la instalación.\n",
    "\n",
    "podeis añadir el path usando las operaciones estándar de listas:\n",
    "\n",
    "    >>> import sys\n",
    "    >>> sys.path.append('/home/alumno/python')"
   ]
  },
  {
   "cell_type": "markdown",
   "metadata": {},
   "source": [
    "<hr>\n",
    "<b><font color='red'>Ejercicio 01</font></b>  \n",
    "\n",
    "Crea un modulo con una clase átomo y que cargue una lista a partir del archivo [C60.xyz](C60.xyz). \n",
    "Haz que la clase átomo tenga una función que obtenga la distancia entre dos átomos.\n",
    "\n",
    "Por ejemplo:\n",
    "\n",
    "    modulo/\n",
    "    ├── geometry\n",
    "    │   ├── atom.py\n",
    "    │   ├── dinamic.py\n",
    "    │   ├── __init__.py\n",
    "    │   ├── step.py\n",
    "    ├── init.py\n",
    "    ├── LICENSE\n",
    "    └── setup.py\n",
    "\n",
    "    >>> import sys\n",
    "    >>> import os\n",
    "    >>> from modulo.geometry.dinamic import *\n",
    "    >>> din=dinamic()\n",
    "    >>> din.loadstep(\"C60.xyz\")\n",
    "    >>> din.loadxyz(\"C60.xyz\")\n",
    "    >>> din.get('-d',[1,2])\n",
    "    >>> din.print_out()\n",
    "        1.538793  \n",
    "\n",
    "import sys\n",
    "import \n",
    "<hr>\n",
    "<b><font color='red'>Ejercicio 02</font></b>  \n",
    "\n",
    "Crea un archivo que cargue el módulo como un script, en el caso que la entrada sea nula o help() que obtenga una ayuda:\n",
    "ejemplo:\n",
    "\n",
    "    #!/usr/bin/env python\n",
    "    import sys\n",
    "    import os\n",
    "    sys.path.append(os.environ[\"path\"])\n",
    "    from pyfb.geometry.dinamic import *\n",
    "    def print_help() :\n",
    "       .....\n",
    "\n",
    "    ./script.py -i C60.xyz -d 1 2 -o\n",
    "        1.538793  \n",
    "\n",
    "Sube al curso la carpeta del modulo comprimida en .zip"
   ]
  },
  {
   "cell_type": "code",
   "execution_count": null,
   "metadata": {},
   "outputs": [],
   "source": []
  }
 ],
 "metadata": {
  "kernelspec": {
   "display_name": "Python 3",
   "language": "python",
   "name": "python3"
  },
  "language_info": {
   "codemirror_mode": {
    "name": "ipython",
    "version": 3
   },
   "file_extension": ".py",
   "mimetype": "text/x-python",
   "name": "python",
   "nbconvert_exporter": "python",
   "pygments_lexer": "ipython3",
   "version": "3.8.10"
  }
 },
 "nbformat": 4,
 "nbformat_minor": 5
}