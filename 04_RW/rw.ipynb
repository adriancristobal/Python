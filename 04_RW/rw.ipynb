{
 "cells": [
  {
   "cell_type": "markdown",
   "id": "0f9b9183",
   "metadata": {},
   "source": [
    "__Cuaderno de trabajo de:__ Adrián Cristóbal"
   ]
  },
  {
   "cell_type": "markdown",
   "id": "1742ac3f",
   "metadata": {},
   "source": [
    "## Lectura y escritura de archivos\n",
    "\n",
    "    f = open(\"archivo.txt\", \"w\")\n",
    "    f.write('Hola mundo\\n')\n",
    "tenemos los siguientes modos:\n",
    "- ‘r’ : Abre el archivo en modo lectura.\n",
    "-‘w’ : write, escritura. Abre el archivo en modo escritura.\n",
    "-‘a’ : append, se diferencia del modo ‘w’ en que en este caso no se sobreescribe el contenido del archivo, sino que se comienza a escribir al final del archivo.\n",
    "-‘b’ : binary, binario.\n",
    "-‘+’ : permite lectura y escritura simultáneas.\n",
    "-‘U’ : universal newline, saltos de línea universales"
   ]
  },
  {
   "cell_type": "code",
   "execution_count": 99,
   "id": "13b13a4d",
   "metadata": {},
   "outputs": [
    {
     "name": "stdout",
     "output_type": "stream",
     "text": [
      "<_io.TextIOWrapper name='archivo.txt' mode='r' encoding='cp1252'>\n"
     ]
    }
   ],
   "source": [
    "f = open(\"archivo.txt\", \"r\")\n",
    "print(f)"
   ]
  },
  {
   "cell_type": "code",
   "execution_count": 100,
   "id": "7deb95e9",
   "metadata": {},
   "outputs": [
    {
     "name": "stdout",
     "output_type": "stream",
     "text": [
      "1 2\n",
      "2 4\n",
      "3 6\n",
      "4 8\n",
      "\n"
     ]
    }
   ],
   "source": [
    "f = open(\"archivo.txt\", \"r\")\n",
    "completo = f.read()\n",
    "print(completo)\n",
    "f.close()"
   ]
  },
  {
   "cell_type": "code",
   "execution_count": 101,
   "id": "aec3d4d0",
   "metadata": {},
   "outputs": [
    {
     "name": "stdout",
     "output_type": "stream",
     "text": [
      "1 2\n",
      "2 4\n",
      "\n"
     ]
    }
   ],
   "source": [
    "f = open(\"archivo.txt\", \"r\")\n",
    "parte = f.read(8)\n",
    "print(parte)\n",
    "f.close()"
   ]
  },
  {
   "cell_type": "code",
   "execution_count": 102,
   "id": "722b2070",
   "metadata": {},
   "outputs": [
    {
     "name": "stdout",
     "output_type": "stream",
     "text": [
      "1 2\n",
      "\n",
      "2 4\n",
      "\n",
      "3 6\n",
      "\n",
      "4 8\n",
      "\n"
     ]
    }
   ],
   "source": [
    "f = open(\"archivo.txt\", \"r\")\n",
    "while True:\n",
    "    linea = f.readline()\n",
    "    if not linea: \n",
    "        break\n",
    "    print(linea)"
   ]
  },
  {
   "cell_type": "code",
   "execution_count": 103,
   "id": "9a124e51",
   "metadata": {},
   "outputs": [
    {
     "name": "stdout",
     "output_type": "stream",
     "text": [
      "['1', '2']\n",
      "['2', '4']\n",
      "['3', '6']\n",
      "['4', '8']\n"
     ]
    }
   ],
   "source": [
    "archivo=\"archivo.txt\"\n",
    "text=open(archivo).readlines()\n",
    "nmaxlines=len(text)\n",
    "for line in text:\n",
    "    print(line.split())"
   ]
  },
  {
   "cell_type": "markdown",
   "id": "6c54e639",
   "metadata": {},
   "source": [
    "## Manejando excepciones"
   ]
  },
  {
   "cell_type": "code",
   "execution_count": 104,
   "id": "066535ef",
   "metadata": {},
   "outputs": [
    {
     "name": "stdout",
     "output_type": "stream",
     "text": [
      "archivo.txt tiene 4 lineas\n",
      "no pude abrir no_existe.txt\n"
     ]
    }
   ],
   "source": [
    "archivo=\"archivo.txt\"\n",
    "try:\n",
    "    f = open(archivo, 'r')\n",
    "except IOError:\n",
    "    print('no pude abrir', archivo)\n",
    "else:\n",
    "    print(archivo, 'tiene', len(f.readlines()), 'lineas')\n",
    "    f.close()\n",
    "\n",
    "archivo=\"no_existe.txt\"\n",
    "try:\n",
    "    f = open(archivo, 'r')\n",
    "except IOError:\n",
    "    print('no pude abrir', archivo)\n",
    "else:\n",
    "    print(archivo, 'tiene', len(f.readlines()), 'lineas')\n",
    "    f.close()"
   ]
  },
  {
   "cell_type": "markdown",
   "id": "655cf3ad",
   "metadata": {},
   "source": [
    "## Format\n",
    "La forma más sencilla de mostrar algo en la salida estándar es median-\n",
    "te el uso de la sentencia print, la cual permite también utilizar técnicas avanzadas de formateo, de forma similar al sprintf de C\n",
    "Los especificadores más sencillos están formados por el símbolo % seguido de una letra que indica el tipo con el que formatear el valor Por ejemplo:\n",
    "\n",
    "Especificador | Formato\n",
    ":--------: | :-------:\n",
    "%s |Cadena\n",
    "%d |Entero\n",
    "%o |Octal\n",
    "%x |Hexadecimal\n",
    "%f |Real\n"
   ]
  },
  {
   "cell_type": "code",
   "execution_count": 105,
   "id": "d1b203e5",
   "metadata": {},
   "outputs": [
    {
     "name": "stdout",
     "output_type": "stream",
     "text": [
      "      Hola mundo\n"
     ]
    }
   ],
   "source": [
    "print (\"%10s mundo\" % \"Hola\")"
   ]
  },
  {
   "cell_type": "code",
   "execution_count": 106,
   "id": "ad212174",
   "metadata": {},
   "outputs": [
    {
     "name": "stdout",
     "output_type": "stream",
     "text": [
      "Hola       mundo\n"
     ]
    }
   ],
   "source": [
    "print (\"%-10s mundo\" % \"Hola\")"
   ]
  },
  {
   "cell_type": "code",
   "execution_count": 107,
   "id": "ad8c9594",
   "metadata": {},
   "outputs": [
    {
     "name": "stdout",
     "output_type": "stream",
     "text": [
      "3.1416\n",
      "3.141593\n",
      "3.1416 3.141593\n"
     ]
    }
   ],
   "source": [
    "from math import pi\n",
    "print(\"%.4f\" % pi)\n",
    "print(\"%.6f\" % pi)\n",
    "print(\"%.4f\" % pi,\"%.6f\" % pi)"
   ]
  },
  {
   "cell_type": "code",
   "execution_count": 108,
   "id": "557a93b5",
   "metadata": {},
   "outputs": [
    {
     "name": "stdout",
     "output_type": "stream",
     "text": [
      "hola\n"
     ]
    }
   ],
   "source": [
    "print (\"%.4s\" % \"hola mundo\")"
   ]
  },
  {
   "cell_type": "code",
   "execution_count": 109,
   "id": "d7a8b51b",
   "metadata": {},
   "outputs": [
    {
     "name": "stdout",
     "output_type": "stream",
     "text": [
      "  123.456789    123.456789  \n",
      " 9876.543210   9876.543210  \n"
     ]
    }
   ],
   "source": [
    "n=123.456789\n",
    "cadena='{0:12.6f}  '.format(n)\n",
    "cadena=cadena+'{0:12.6f}  '.format(n)\n",
    "cadena=cadena+\"\\n\"\n",
    "n=9876.54321\n",
    "cadena=cadena+'{0:12.6f}  '.format(n)\n",
    "cadena=cadena+'{0:12.6f}  '.format(n)\n",
    "print(cadena)"
   ]
  },
  {
   "cell_type": "markdown",
   "id": "3504e92d",
   "metadata": {},
   "source": [
    "<hr>\n",
    "<b><font color='red'>Ejercicio 01</font></b>  \n",
    "\n",
    "Lee el archivo.txt "
   ]
  },
  {
   "cell_type": "code",
   "execution_count": 110,
   "id": "490ec3a6",
   "metadata": {},
   "outputs": [
    {
     "name": "stdout",
     "output_type": "stream",
     "text": [
      "1.0 2.00\n",
      "2.0 4.00\n",
      "3.0 6.00\n",
      "4.0 8.00\n"
     ]
    }
   ],
   "source": [
    "archivo=\"archivo.txt\"\n",
    "text=open(archivo).readlines()\n",
    "#ahora tenemos 4 filas\n",
    "for line in text:\n",
    "    #cogemos el elemento 0 de cada lista = a\n",
    "    a = (line.split()[0])\n",
    "    #cogemos el elemento 1 de cada lista = b\n",
    "    b = (line.split()[1])\n",
    "\n",
    "    print(\"%0.1f\" % float(a), \"%0.2f\" % float(b))"
   ]
  },
  {
   "cell_type": "markdown",
   "id": "efb2518c",
   "metadata": {},
   "source": [
    "y haz que tenga la siguiente salida:\n",
    "\n",
    "    1.0   2.00  \n",
    "    2.0   4.00  \n",
    "    3.0   6.00  \n",
    "    4.0   8.00  \n"
   ]
  },
  {
   "cell_type": "markdown",
   "id": "e6b0c37c",
   "metadata": {},
   "source": [
    "<hr>\n",
    "<b><font color='red'>Ejercicio 02</font></b>  "
   ]
  },
  {
   "cell_type": "markdown",
   "id": "3674a8fc",
   "metadata": {},
   "source": [
    "Haz lo mismo con el archvo archivo_error.txt,con ciddado de que a este archivo le falta algún dato, haz que en ese caso cuando lo lea, si no hay dos columnas no lo escriba."
   ]
  },
  {
   "cell_type": "code",
   "execution_count": 130,
   "id": "b37c0956",
   "metadata": {},
   "outputs": [
    {
     "name": "stdout",
     "output_type": "stream",
     "text": [
      "1 2\n",
      "\n",
      "3 6\n",
      "\n",
      "4 8\n",
      "\n"
     ]
    }
   ],
   "source": [
    "\n",
    "archivoError = open(\"archivo_error.txt\", \"r\")\n",
    "lineas = [0, 2, 4]\n",
    "\n",
    "for posicion, resultado in enumerate(archivoError):\n",
    "    if posicion in lineas:\n",
    "        print(resultado)"
   ]
  },
  {
   "cell_type": "markdown",
   "id": "c83e335c",
   "metadata": {},
   "source": [
    "<hr>\n",
    "<b><font color='red'>Ejercicio 03</font></b>  "
   ]
  },
  {
   "cell_type": "markdown",
   "id": "2ba36fe9",
   "metadata": {},
   "source": [
    "Lee el archivo.txt, haz que imprima las columnas en las filas y las filas en las columnas"
   ]
  },
  {
   "cell_type": "code",
   "execution_count": 125,
   "id": "9d29f896",
   "metadata": {},
   "outputs": [
    {
     "name": "stdout",
     "output_type": "stream",
     "text": [
      "1 2 3 4\n",
      "2 4 6 8\n"
     ]
    }
   ],
   "source": [
    "archivo=\"archivoo.txt\"\n",
    "text=open(archivo).readlines()\n",
    "#ahora tenemos 2 filas\n",
    "for line in text:\n",
    "    #cogemos el elemento 0 de cada lista = a\n",
    "    a = (line.split()[0])\n",
    "    #cogemos el elemento 1 de cada lista = b\n",
    "    b = (line.split()[1])\n",
    "    #cogemos el elemento 2 de cada lista = c\n",
    "    c = (line.split()[2])\n",
    "    #cogemos el elemento 3 de cada lista = d\n",
    "    d = (line.split()[3])\n",
    "    print(a, b, c, d)"
   ]
  },
  {
   "cell_type": "markdown",
   "id": "46df5df1",
   "metadata": {},
   "source": [
    "<hr>\n",
    "<b><font color='red'>Ejercicio 04</font></b>  "
   ]
  },
  {
   "cell_type": "markdown",
   "id": "50bbf493",
   "metadata": {},
   "source": [
    "1. Escribe en un archivo la siguiente matriz:\n",
    "$\n",
    "\\begin{equation}\n",
    "\\begin{pmatrix}\n",
    "3 & 1 & 3\\\\\n",
    "-1 & 1 & 0\\\\\n",
    "-2 & 4 & 1\n",
    "\\end{pmatrix}\n",
    "\\end{equation} \n",
    "$\n",
    "2. Lee el archivo\n",
    "3. Calcula con los datos leidos el determinante de la matriz y lo saque por pantalla"
   ]
  },
  {
   "cell_type": "code",
   "execution_count": 128,
   "outputs": [
    {
     "name": "stdout",
     "output_type": "stream",
     "text": [
      "-2\n"
     ]
    }
   ],
   "source": [
    "matriz = \"matriz.txt\"\n",
    "matriz = open(matriz)\n",
    "p00 = 3\n",
    "p01 = 1\n",
    "p02 = 3\n",
    "p10 = (-1)\n",
    "p11 = 1\n",
    "p12 = 0\n",
    "p20 = -2\n",
    "p21 = 4\n",
    "p22 = 1\n",
    "s1 = p00*p11*p22\n",
    "s2 = p02*p10*p21\n",
    "s3 = p01*p12*p20\n",
    "sTotal = s1+s2+s3\n",
    "r1 = p02*p11*p20\n",
    "r2 = p01*p10*p22\n",
    "r3 = p00*p12*p21\n",
    "rTotal = r1+r2+r3\n",
    "solusion = sTotal - rTotal\n",
    "print(solusion)"
   ],
   "metadata": {
    "collapsed": false,
    "pycharm": {
     "name": "#%%\n"
    }
   }
  },
  {
   "cell_type": "markdown",
   "id": "cc887d64",
   "metadata": {},
   "source": [
    "<hr>\n",
    "<b><font color='red'>Ejercicio 05</font></b>  "
   ]
  },
  {
   "cell_type": "markdown",
   "id": "c12b13d1",
   "metadata": {},
   "source": [
    "En el criptoanálisis, la técnica de análisis de frecuencias consiste en el aprovechamiento de estudios sobre la frecuencia de las letras o grupos de letras en los idiomas para poder establecer hipótesis para aprovecharlas para poder descifrar un texto cifrado sin tener la clave de descifrado (romper). Es un método típico para romper cifrados clásicos. \n",
    "Haz una anailisis de frecuencias para los 10 primeros càpitulos de el libro \"el_quijote.txt\""
   ]
  },
  {
   "cell_type": "code",
   "execution_count": 131,
   "id": "482c3b4e",
   "metadata": {},
   "outputs": [
    {
     "ename": "UnicodeDecodeError",
     "evalue": "'charmap' codec can't decode byte 0x81 in position 78: character maps to <undefined>",
     "output_type": "error",
     "traceback": [
      "\u001B[1;31m---------------------------------------------------------------------------\u001B[0m",
      "\u001B[1;31mUnicodeDecodeError\u001B[0m                        Traceback (most recent call last)",
      "\u001B[1;32m~\\AppData\\Local\\Temp/ipykernel_10968/2218249737.py\u001B[0m in \u001B[0;36m<module>\u001B[1;34m\u001B[0m\n\u001B[0;32m      1\u001B[0m \u001B[0mf\u001B[0m \u001B[1;33m=\u001B[0m \u001B[0mopen\u001B[0m\u001B[1;33m(\u001B[0m\u001B[1;34m\"el_quijote.txt\"\u001B[0m\u001B[1;33m,\u001B[0m \u001B[1;34m\"r\"\u001B[0m\u001B[1;33m)\u001B[0m\u001B[1;33m\u001B[0m\u001B[1;33m\u001B[0m\u001B[0m\n\u001B[1;32m----> 2\u001B[1;33m \u001B[0mtexto\u001B[0m \u001B[1;33m=\u001B[0m \u001B[0mf\u001B[0m\u001B[1;33m.\u001B[0m\u001B[0mread\u001B[0m\u001B[1;33m(\u001B[0m\u001B[1;33m)\u001B[0m\u001B[1;33m.\u001B[0m\u001B[0mupper\u001B[0m\u001B[1;33m(\u001B[0m\u001B[1;33m)\u001B[0m\u001B[1;33m\u001B[0m\u001B[1;33m\u001B[0m\u001B[0m\n\u001B[0m\u001B[0;32m      3\u001B[0m \u001B[0mabc\u001B[0m \u001B[1;33m=\u001B[0m \u001B[1;34m\"ABCDEFGHIJKLMNOPQRSTUVWXYZ\"\u001B[0m\u001B[1;33m\u001B[0m\u001B[1;33m\u001B[0m\u001B[0m\n\u001B[0;32m      4\u001B[0m \u001B[1;33m\u001B[0m\u001B[0m\n\u001B[0;32m      5\u001B[0m \u001B[0mn\u001B[0m \u001B[1;33m=\u001B[0m \u001B[1;36m0\u001B[0m\u001B[1;33m\u001B[0m\u001B[1;33m\u001B[0m\u001B[0m\n",
      "\u001B[1;32mc:\\users\\jrang\\appdata\\local\\programs\\python\\python39\\lib\\encodings\\cp1252.py\u001B[0m in \u001B[0;36mdecode\u001B[1;34m(self, input, final)\u001B[0m\n\u001B[0;32m     21\u001B[0m \u001B[1;32mclass\u001B[0m \u001B[0mIncrementalDecoder\u001B[0m\u001B[1;33m(\u001B[0m\u001B[0mcodecs\u001B[0m\u001B[1;33m.\u001B[0m\u001B[0mIncrementalDecoder\u001B[0m\u001B[1;33m)\u001B[0m\u001B[1;33m:\u001B[0m\u001B[1;33m\u001B[0m\u001B[1;33m\u001B[0m\u001B[0m\n\u001B[0;32m     22\u001B[0m     \u001B[1;32mdef\u001B[0m \u001B[0mdecode\u001B[0m\u001B[1;33m(\u001B[0m\u001B[0mself\u001B[0m\u001B[1;33m,\u001B[0m \u001B[0minput\u001B[0m\u001B[1;33m,\u001B[0m \u001B[0mfinal\u001B[0m\u001B[1;33m=\u001B[0m\u001B[1;32mFalse\u001B[0m\u001B[1;33m)\u001B[0m\u001B[1;33m:\u001B[0m\u001B[1;33m\u001B[0m\u001B[1;33m\u001B[0m\u001B[0m\n\u001B[1;32m---> 23\u001B[1;33m         \u001B[1;32mreturn\u001B[0m \u001B[0mcodecs\u001B[0m\u001B[1;33m.\u001B[0m\u001B[0mcharmap_decode\u001B[0m\u001B[1;33m(\u001B[0m\u001B[0minput\u001B[0m\u001B[1;33m,\u001B[0m\u001B[0mself\u001B[0m\u001B[1;33m.\u001B[0m\u001B[0merrors\u001B[0m\u001B[1;33m,\u001B[0m\u001B[0mdecoding_table\u001B[0m\u001B[1;33m)\u001B[0m\u001B[1;33m[\u001B[0m\u001B[1;36m0\u001B[0m\u001B[1;33m]\u001B[0m\u001B[1;33m\u001B[0m\u001B[1;33m\u001B[0m\u001B[0m\n\u001B[0m\u001B[0;32m     24\u001B[0m \u001B[1;33m\u001B[0m\u001B[0m\n\u001B[0;32m     25\u001B[0m \u001B[1;32mclass\u001B[0m \u001B[0mStreamWriter\u001B[0m\u001B[1;33m(\u001B[0m\u001B[0mCodec\u001B[0m\u001B[1;33m,\u001B[0m\u001B[0mcodecs\u001B[0m\u001B[1;33m.\u001B[0m\u001B[0mStreamWriter\u001B[0m\u001B[1;33m)\u001B[0m\u001B[1;33m:\u001B[0m\u001B[1;33m\u001B[0m\u001B[1;33m\u001B[0m\u001B[0m\n",
      "\u001B[1;31mUnicodeDecodeError\u001B[0m: 'charmap' codec can't decode byte 0x81 in position 78: character maps to <undefined>"
     ]
    }
   ],
   "source": [
    "f = open(\"el_quijote.txt\", \"r\")\n",
    "texto = f.read().upper()\n",
    "abc = \"ABCDEFGHIJKLMNOPQRSTUVWXYZ\"\n",
    "\n",
    "n = 0\n",
    "for p in texto:\n",
    "    if abc.count(p) > 0:\n",
    "        n = n + 1\n",
    "print(n)\n",
    "\n",
    "for a in abc:\n",
    "    if texto.count(a) > 0:\n",
    "        print(a, \"%.3f\" % (texto.count(a)/n))\n",
    "\n",
    "#no entiendo el error"
   ]
  },
  {
   "cell_type": "markdown",
   "id": "bbda7117",
   "metadata": {},
   "source": [
    "Salida:\n",
    "\n",
    "    A   0.127\n",
    "    B   0.017\n",
    "    C   0.037\n",
    "    D   0.053\n",
    "    E   0.138\n",
    "    F   0.005\n",
    "    .\n",
    "    .\n",
    "    ."
   ]
  },
  {
   "cell_type": "markdown",
   "id": "2997dde5",
   "metadata": {},
   "source": [
    "<hr>\n",
    "<b><font color='red'>Ejercicio 06</font></b>  "
   ]
  },
  {
   "cell_type": "markdown",
   "id": "356ffebf",
   "metadata": {},
   "source": [
    "haz un analisis de frecuencias en el libro encriptado \"RH RQCEPESEFM AR MPM.txt\", y comparala con el analisis anterior\n"
   ]
  },
  {
   "cell_type": "code",
   "execution_count": 133,
   "outputs": [
    {
     "ename": "UnicodeDecodeError",
     "evalue": "'charmap' codec can't decode byte 0x81 in position 78: character maps to <undefined>",
     "output_type": "error",
     "traceback": [
      "\u001B[1;31m---------------------------------------------------------------------------\u001B[0m",
      "\u001B[1;31mUnicodeDecodeError\u001B[0m                        Traceback (most recent call last)",
      "\u001B[1;32m~\\AppData\\Local\\Temp/ipykernel_10968/587035822.py\u001B[0m in \u001B[0;36m<module>\u001B[1;34m\u001B[0m\n\u001B[0;32m      1\u001B[0m \u001B[0mf\u001B[0m \u001B[1;33m=\u001B[0m \u001B[0mopen\u001B[0m\u001B[1;33m(\u001B[0m\u001B[1;34m\"el_quijote.txt\"\u001B[0m\u001B[1;33m,\u001B[0m \u001B[1;34m\"r\"\u001B[0m\u001B[1;33m)\u001B[0m\u001B[1;33m\u001B[0m\u001B[1;33m\u001B[0m\u001B[0m\n\u001B[1;32m----> 2\u001B[1;33m \u001B[0mtexto\u001B[0m \u001B[1;33m=\u001B[0m \u001B[0mf\u001B[0m\u001B[1;33m.\u001B[0m\u001B[0mread\u001B[0m\u001B[1;33m(\u001B[0m\u001B[1;33m)\u001B[0m\u001B[1;33m.\u001B[0m\u001B[0mupper\u001B[0m\u001B[1;33m(\u001B[0m\u001B[1;33m)\u001B[0m\u001B[1;33m\u001B[0m\u001B[1;33m\u001B[0m\u001B[0m\n\u001B[0m\u001B[0;32m      3\u001B[0m \u001B[1;33m\u001B[0m\u001B[0m\n\u001B[0;32m      4\u001B[0m \u001B[0me\u001B[0m \u001B[1;33m=\u001B[0m \u001B[0mopen\u001B[0m\u001B[1;33m(\u001B[0m\u001B[1;34m\"RH RQCEPESEFM AR MPM.txt\"\u001B[0m\u001B[1;33m,\u001B[0m \u001B[1;34m\"r\"\u001B[0m\u001B[1;33m)\u001B[0m\u001B[1;33m\u001B[0m\u001B[1;33m\u001B[0m\u001B[0m\n\u001B[0;32m      5\u001B[0m \u001B[0mtext\u001B[0m \u001B[1;33m=\u001B[0m \u001B[0me\u001B[0m\u001B[1;33m.\u001B[0m\u001B[0mread\u001B[0m\u001B[1;33m(\u001B[0m\u001B[1;33m)\u001B[0m\u001B[1;33m.\u001B[0m\u001B[0mupper\u001B[0m\u001B[1;33m(\u001B[0m\u001B[1;33m)\u001B[0m\u001B[1;33m\u001B[0m\u001B[1;33m\u001B[0m\u001B[0m\n",
      "\u001B[1;32mc:\\users\\jrang\\appdata\\local\\programs\\python\\python39\\lib\\encodings\\cp1252.py\u001B[0m in \u001B[0;36mdecode\u001B[1;34m(self, input, final)\u001B[0m\n\u001B[0;32m     21\u001B[0m \u001B[1;32mclass\u001B[0m \u001B[0mIncrementalDecoder\u001B[0m\u001B[1;33m(\u001B[0m\u001B[0mcodecs\u001B[0m\u001B[1;33m.\u001B[0m\u001B[0mIncrementalDecoder\u001B[0m\u001B[1;33m)\u001B[0m\u001B[1;33m:\u001B[0m\u001B[1;33m\u001B[0m\u001B[1;33m\u001B[0m\u001B[0m\n\u001B[0;32m     22\u001B[0m     \u001B[1;32mdef\u001B[0m \u001B[0mdecode\u001B[0m\u001B[1;33m(\u001B[0m\u001B[0mself\u001B[0m\u001B[1;33m,\u001B[0m \u001B[0minput\u001B[0m\u001B[1;33m,\u001B[0m \u001B[0mfinal\u001B[0m\u001B[1;33m=\u001B[0m\u001B[1;32mFalse\u001B[0m\u001B[1;33m)\u001B[0m\u001B[1;33m:\u001B[0m\u001B[1;33m\u001B[0m\u001B[1;33m\u001B[0m\u001B[0m\n\u001B[1;32m---> 23\u001B[1;33m         \u001B[1;32mreturn\u001B[0m \u001B[0mcodecs\u001B[0m\u001B[1;33m.\u001B[0m\u001B[0mcharmap_decode\u001B[0m\u001B[1;33m(\u001B[0m\u001B[0minput\u001B[0m\u001B[1;33m,\u001B[0m\u001B[0mself\u001B[0m\u001B[1;33m.\u001B[0m\u001B[0merrors\u001B[0m\u001B[1;33m,\u001B[0m\u001B[0mdecoding_table\u001B[0m\u001B[1;33m)\u001B[0m\u001B[1;33m[\u001B[0m\u001B[1;36m0\u001B[0m\u001B[1;33m]\u001B[0m\u001B[1;33m\u001B[0m\u001B[1;33m\u001B[0m\u001B[0m\n\u001B[0m\u001B[0;32m     24\u001B[0m \u001B[1;33m\u001B[0m\u001B[0m\n\u001B[0;32m     25\u001B[0m \u001B[1;32mclass\u001B[0m \u001B[0mStreamWriter\u001B[0m\u001B[1;33m(\u001B[0m\u001B[0mCodec\u001B[0m\u001B[1;33m,\u001B[0m\u001B[0mcodecs\u001B[0m\u001B[1;33m.\u001B[0m\u001B[0mStreamWriter\u001B[0m\u001B[1;33m)\u001B[0m\u001B[1;33m:\u001B[0m\u001B[1;33m\u001B[0m\u001B[1;33m\u001B[0m\u001B[0m\n",
      "\u001B[1;31mUnicodeDecodeError\u001B[0m: 'charmap' codec can't decode byte 0x81 in position 78: character maps to <undefined>"
     ]
    }
   ],
   "source": [
    "f = open(\"el_quijote.txt\", \"r\")\n",
    "texto = f.read().upper()\n",
    "\n",
    "e = open(\"RH RQCEPESEFM AR MPM.txt\", \"r\")\n",
    "text = e.read().upper()\n",
    "\n",
    "abc = \"ABCDEFGHIJKLMNOPQRSTUVWXYZ\"\n",
    "\n",
    "n = 0\n",
    "for p in texto:\n",
    "    if abc.count(p) > 0:\n",
    "        n = n + 1\n",
    "\n",
    "h = 0\n",
    "for p in text:\n",
    "    if abc.count(p) > 0:\n",
    "        h = h + 1\n",
    "\n",
    "print(\"el_quijote.txt :       \",\"RH RQCEPESEFM AR MPM.txt\")\n",
    "for a in abc:\n",
    "    if texto.count(a) > 0 and text.count(a) > 0:\n",
    "        print(a, \"%.3f\" % (texto.count(a)/n), \"                \", a, \"%.3f\" % (text.count(a)/h))"
   ],
   "metadata": {
    "collapsed": false,
    "pycharm": {
     "name": "#%%\n"
    }
   }
  },
  {
   "cell_type": "markdown",
   "id": "34804739",
   "metadata": {},
   "source": [
    "salida:\n",
    "\n",
    "    el_quijote.txt   RH RQCEPESEFM AR MPM.txt\n",
    "    A   0.127        A   0.049\n",
    "    B   0.017        B   0.006\n",
    "    C   0.037        C   0.040\n",
    "    .                .\n",
    "    .                .\n",
    "    .                ."
   ]
  },
  {
   "cell_type": "markdown",
   "id": "09c15b53",
   "metadata": {},
   "source": [
    "<hr>\n",
    "<b><font color='red'>Ejercicio 07</font></b>  \n",
    "\n",
    "Comparando el analisis de frecuencia sabrías decir cual es el titulo del libro.  \n",
    "RH RQCEPESEFM AR MPM"
   ]
  },
  {
   "cell_type": "markdown",
   "id": "04c10573",
   "metadata": {},
   "source": [
    "EL ESCARABAJO DE ORO\n",
    "\n"
   ]
  }
 ],
 "metadata": {
  "kernelspec": {
   "display_name": "Python 3",
   "language": "python",
   "name": "python3"
  },
  "language_info": {
   "codemirror_mode": {
    "name": "ipython",
    "version": 3
   },
   "file_extension": ".py",
   "mimetype": "text/x-python",
   "name": "python",
   "nbconvert_exporter": "python",
   "pygments_lexer": "ipython3",
   "version": "3.8.10"
  }
 },
 "nbformat": 4,
 "nbformat_minor": 5
}